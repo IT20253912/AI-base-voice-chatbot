{
 "cells": [
  {
   "cell_type": "code",
   "execution_count": 1,
   "id": "cc183353",
   "metadata": {},
   "outputs": [],
   "source": [
    "import numpy as np\n",
    "import pandas as pd\n",
    "\n",
    "# Set random seed for reproducibility\n",
    "np.random.seed(123)\n",
    "\n",
    "# Define the number of samples in the dataset\n",
    "num_samples = 1000\n",
    "\n",
    "# Define the range of smoking usage period and smoking frequency\n",
    "smoking_usage_period_range = (1, 30)  # in years\n",
    "smoking_frequency_range = (1, 20)  # number of cigarettes per day\n",
    "\n",
    "# Define the range of damage levels for each body component\n",
    "component_damage_range = {\n",
    "    'Component1': (0, 1),\n",
    "    'Component2': (0, 1),\n",
    "    'Component3': (0, 1),\n",
    "    # Add more components as needed\n",
    "}\n",
    "\n",
    "# Generate synthetic data\n",
    "data = {\n",
    "    'SmokingUsagePeriod': np.random.randint(*smoking_usage_period_range, size=num_samples),\n",
    "    'SmokingFrequency': np.random.randint(*smoking_frequency_range, size=num_samples),\n",
    "}\n",
    "\n",
    "for component, damage_range in component_damage_range.items():\n",
    "    data[component + 'Damage'] = np.random.uniform(*damage_range, size=num_samples)\n",
    "\n",
    "# Create a DataFrame from the generated data\n",
    "df = pd.DataFrame(data)\n",
    "\n",
    "# Save the dataset to a CSV file\n",
    "df.to_csv('synthetic_dataset.csv', index=False)\n"
   ]
  },
  {
   "cell_type": "code",
   "execution_count": null,
   "id": "37940155",
   "metadata": {},
   "outputs": [],
   "source": []
  }
 ],
 "metadata": {
  "kernelspec": {
   "display_name": "Python 3 (ipykernel)",
   "language": "python",
   "name": "python3"
  },
  "language_info": {
   "codemirror_mode": {
    "name": "ipython",
    "version": 3
   },
   "file_extension": ".py",
   "mimetype": "text/x-python",
   "name": "python",
   "nbconvert_exporter": "python",
   "pygments_lexer": "ipython3",
   "version": "3.9.13"
  }
 },
 "nbformat": 4,
 "nbformat_minor": 5
}
